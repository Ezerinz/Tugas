{
  "nbformat": 4,
  "nbformat_minor": 0,
  "metadata": {
    "colab": {
      "name": "Tugas SDA #3.ipynb",
      "provenance": [],
      "collapsed_sections": [],
      "authorship_tag": "ABX9TyP0dVSrXD/m3BF/SgWVFmOn",
      "include_colab_link": true
    },
    "kernelspec": {
      "name": "python3",
      "display_name": "Python 3"
    },
    "language_info": {
      "name": "python"
    }
  },
  "cells": [
    {
      "cell_type": "markdown",
      "metadata": {
        "id": "view-in-github",
        "colab_type": "text"
      },
      "source": [
        "<a href=\"https://colab.research.google.com/github/Ezerinz/Tugas/blob/main/Tugas_SDA_3.ipynb\" target=\"_parent\"><img src=\"https://colab.research.google.com/assets/colab-badge.svg\" alt=\"Open In Colab\"/></a>"
      ]
    },
    {
      "cell_type": "code",
      "execution_count": 22,
      "metadata": {
        "colab": {
          "base_uri": "https://localhost:8080/"
        },
        "id": "KaXXSoLRCC1o",
        "outputId": "19da7e01-c6d9-496a-f56f-96c59508b75b"
      },
      "outputs": [
        {
          "output_type": "stream",
          "name": "stdout",
          "text": [
            "\n",
            "1. Menambah\n",
            "2. Menghapus\n",
            "3. Mengedit\n",
            "4. Menampilkan\n",
            "5. Cek Barang\n",
            "6. Cari Index\n",
            "7. Keluar\n",
            "Masukkan Perintah: 7\n",
            "Selamat Tinggal\n"
          ]
        }
      ],
      "source": [
        "brg = []\n",
        "perintah = 0\n",
        "\n",
        "def berhenti():\n",
        "  stop = input(\"Ketik Y untuk berhenti, selain itu lanjut: \").lower()\n",
        "  if stop == 'y':\n",
        "    return True\n",
        "  return False\n",
        "\n",
        "def IndexNotFound(z):\n",
        "  if z > (len(brg) - 1):\n",
        "    print(\"Index tidak ditemukan\")\n",
        "    return True\n",
        "  return False\n",
        "\n",
        "def menambah():\n",
        "  while True:\n",
        "    elem = input(\"Masukkan Barang: \")\n",
        "    brg.append(elem)\n",
        "\n",
        "    if berhenti() == True:\n",
        "      break\n",
        "\n",
        "def menghapus():\n",
        "    while True:\n",
        "      hps = int(input(\"Masukkan Index yang akan dihapus: \"))\n",
        "\n",
        "      if IndexNotFound(hps) == False:\n",
        "        print(brg.pop(hps), \"dihapus!\")\n",
        "\n",
        "      if berhenti() == True:\n",
        "        break\n",
        "\n",
        "def mengedit():\n",
        "    while True:\n",
        "      edit = int(input(\"Masukkan Index yang akan diedit: \"))\n",
        "      \n",
        "      if IndexNotFound(edit) == False:\n",
        "        brg [edit] = input(\"Masukkan Barang yang baru: \")\n",
        "      \n",
        "      if berhenti() == True:\n",
        "        break\n",
        "\n",
        "def menampilkan():\n",
        "    for i in range(len(brg)):\n",
        "      print(brg[i])\n",
        "\n",
        "def cekbarang():\n",
        "    cari = input(\"Masukkan Barang yang dicek: \")\n",
        "\n",
        "    if cari in brg:\n",
        "      print(f\"{cari} ada dalam list!\")\n",
        "    else:\n",
        "      print(\"Barang tidak ditemukan!\")\n",
        "\n",
        "def cariindex():\n",
        "    cari2 = input(\"Masukkan Barang yang dicari: \")\n",
        "\n",
        "    if cari2 in brg:\n",
        "      print(f\"{cari2} ada pada index ke-{brg.index(cari2)}\")\n",
        "    else:\n",
        "      print(\"Index tidak ditemukan!\")\n",
        "\n",
        "\n",
        "while perintah != 7:\n",
        "  print('''\\n1. Menambah\n",
        "2. Menghapus\n",
        "3. Mengedit\n",
        "4. Menampilkan\n",
        "5. Cek Barang\n",
        "6. Cari Index\n",
        "7. Keluar''')\n",
        "  perintah = int(input(\"Masukkan Perintah: \"))\n",
        "\n",
        "  if perintah == 1:\n",
        "    menambah()\n",
        "  elif perintah == 2:\n",
        "    menghapus()\n",
        "  elif perintah == 3:\n",
        "    mengedit()\n",
        "  elif perintah == 4:\n",
        "    menampilkan()\n",
        "  elif perintah == 5:\n",
        "    cekbarang()\n",
        "  elif perintah == 6:\n",
        "    cariindex()\n",
        "\n",
        "      \n",
        "print(\"Selamat Tinggal\")      "
      ]
    }
  ]
}