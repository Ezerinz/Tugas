{
  "nbformat": 4,
  "nbformat_minor": 0,
  "metadata": {
    "colab": {
      "name": "Tugas 2.ipynb",
      "provenance": [],
      "authorship_tag": "ABX9TyNuxd91nWJYveJp+v96izs6",
      "include_colab_link": true
    },
    "kernelspec": {
      "name": "python3",
      "display_name": "Python 3"
    },
    "language_info": {
      "name": "python"
    }
  },
  "cells": [
    {
      "cell_type": "markdown",
      "metadata": {
        "id": "view-in-github",
        "colab_type": "text"
      },
      "source": [
        "<a href=\"https://colab.research.google.com/github/Ezerinz/Tugas/blob/main/Tugas_2.ipynb\" target=\"_parent\"><img src=\"https://colab.research.google.com/assets/colab-badge.svg\" alt=\"Open In Colab\"/></a>"
      ]
    },
    {
      "cell_type": "code",
      "execution_count": 4,
      "metadata": {
        "colab": {
          "base_uri": "https://localhost:8080/"
        },
        "id": "1gMyR6Y9-nKZ",
        "outputId": "4f6fadb7-2040-4fcb-9564-53d911fa716f"
      },
      "outputs": [
        {
          "output_type": "stream",
          "name": "stdout",
          "text": [
            "edwin\n",
            "19\n",
            "teknik\n",
            "['ryan', 19, 'teknik']\n",
            "['ryan', 19, 'teknik', 'majene']\n",
            "['ryan', 19, 'majene']\n"
          ]
        }
      ],
      "source": [
        "daftar = ['edwin', 19, 'teknik']\n",
        "\n",
        "for i in range(len(daftar)):\n",
        "  print(daftar[i])\n",
        "\n",
        "daftar [0] = 'ryan'\n",
        "print(daftar)\n",
        "\n",
        "daftar.append('majene')\n",
        "print(daftar)\n",
        "\n",
        "daftar.pop(2)\n",
        "print(daftar)\n"
      ]
    },
    {
      "cell_type": "code",
      "source": [
        "sett = {'edwin', 19, 'teknik'}\n",
        "print(sett)\n",
        "\n",
        "for i in sett:\n",
        "  print(i)\n",
        "\n",
        "sett.add('majene')\n",
        "print(sett)\n",
        "\n",
        "sett.discard(19)\n",
        "print(sett)"
      ],
      "metadata": {
        "colab": {
          "base_uri": "https://localhost:8080/"
        },
        "id": "IBfCNyFlBy2e",
        "outputId": "3ac3712d-b0fa-4467-e454-2695143a797a"
      },
      "execution_count": 9,
      "outputs": [
        {
          "output_type": "stream",
          "name": "stdout",
          "text": [
            "{'edwin', 19, 'teknik'}\n",
            "edwin\n",
            "19\n",
            "teknik\n",
            "{'majene', 'edwin', 19, 'teknik'}\n",
            "{'majene', 'edwin', 'teknik'}\n"
          ]
        }
      ]
    },
    {
      "cell_type": "code",
      "source": [
        "dictio = {'nama' : 'edwin', 'umur' : 19, 'fakultas' : 'teknik'}\n",
        "\n",
        "for i in dictio:\n",
        "  print('Key: ', i, '=> value: ', dictio[i])\n",
        "\n",
        "dictio ['nama'] = 'ryan'\n",
        "print(dictio)\n",
        "\n",
        "dictio ['asal'] = 'majene'\n",
        "print(dictio)\n",
        "\n",
        "dictio.pop('nama')\n",
        "print(dictio)"
      ],
      "metadata": {
        "colab": {
          "base_uri": "https://localhost:8080/"
        },
        "id": "xLfW6nVoChnh",
        "outputId": "55d04d3d-1fb1-487e-f649-9d4b1892fe43"
      },
      "execution_count": 14,
      "outputs": [
        {
          "output_type": "stream",
          "name": "stdout",
          "text": [
            "Key:  nama => value:  edwin\n",
            "Key:  umur => value:  19\n",
            "Key:  fakultas => value:  teknik\n",
            "{'nama': 'ryan', 'umur': 19, 'fakultas': 'teknik'}\n",
            "{'nama': 'ryan', 'umur': 19, 'fakultas': 'teknik', 'asal': 'majene'}\n",
            "{'umur': 19, 'fakultas': 'teknik', 'asal': 'majene'}\n"
          ]
        }
      ]
    },
    {
      "cell_type": "code",
      "source": [
        "tapel = ('edwin', 19, 'teknik')\n",
        "\n",
        "for i in range(len(tapel)):\n",
        "  print(tapel[i])\n",
        "\n",
        "tapel = list(tapel)\n",
        "tapel.pop(0)\n",
        "print(tapel)\n",
        "\n",
        "tapel [1] = 20\n",
        "print(tapel)\n",
        "\n",
        "tapel.append ('majene')\n",
        "print(tapel)"
      ],
      "metadata": {
        "colab": {
          "base_uri": "https://localhost:8080/"
        },
        "id": "7sw2ZxHiDpBJ",
        "outputId": "276556f7-685d-4426-ec62-6dba12694530"
      },
      "execution_count": 20,
      "outputs": [
        {
          "output_type": "stream",
          "name": "stdout",
          "text": [
            "edwin\n",
            "19\n",
            "teknik\n",
            "[19, 'teknik']\n",
            "[19, 20]\n",
            "[19, 20, 'majene']\n"
          ]
        }
      ]
    }
  ]
}